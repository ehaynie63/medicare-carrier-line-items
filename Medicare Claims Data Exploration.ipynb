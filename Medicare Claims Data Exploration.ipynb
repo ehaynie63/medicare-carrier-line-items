{
 "cells": [
  {
   "cell_type": "code",
   "execution_count": 32,
   "metadata": {},
   "outputs": [],
   "source": [
    "import pandas as pd\n",
    "import matplotlib.pyplot as plt\n",
    "import numpy as np\n",
    "import seaborn as sns\n",
    "from scipy import stats\n",
    "import warnings \n",
    "warnings.filterwarnings(\"ignore\")"
   ]
  },
  {
   "cell_type": "markdown",
   "metadata": {},
   "source": [
    "### Project Overview\n",
    "1. Determine what the top 5 diagnoses are\n",
    "2. Explore demographic trends related to the top Medicare Diagnosis\n",
    "3. Explore medicare spending related to the top Medicare diagnosis"
   ]
  },
  {
   "cell_type": "markdown",
   "metadata": {},
   "source": [
    "### About the Medicare Carrier Claims File\n",
    "Description: The CMS BSA Carrier Line Items PUF is a line item level file in which each record is a line item of a Carrier claim incurred by a 5% sample of Medicare beneficiaries. <br>\n",
    "Filename: 2010_BSA_Carrier_PUF.csv <br>\n",
    "File type: Comma Delimited <br>\n",
    "Source: Center for Medicaid and Medicare Services <br>\n",
    "Fields:\n",
    "\n",
    "| Field | Description |\n",
    "| --- | --- |\n",
    "| BENE_SEX_IDENT_CD | Sex |\n",
    "| BENE_AGE_CAT_CD | Gender |\n",
    "| CAR_LINE_ICD9_DGNS_CD | ICD-9-CM Diagnosis Code|\n",
    "| CAR_LINE_HCPCS_CD | HCPCS Procedure Code |\n",
    "| CAR_LINE_BETOS_CD | Berenson-Eggers Type of Service (BETOS)|\n",
    "| CAR_LINE_SRVC_CNT | Total # of services for the line item (procedure) |\n",
    "| CAR_LINE_PRVDR_TYPE_CD | Type of Provider e.g. Clinic, groups, associations |\n",
    "|CAR_HCPS_PMT_AMT |Payment made by Medicare |\n",
    "|CAR_LINE_CNT | Number of carrier line items associated with each profile |\n",
    "\n",
    "### References:\n",
    "Source: www.cms.gov/data-research/statistics-trends-and-reports/basic-stand-alone-medicare-claims-public-use-files/bsa-dme-line-items-puf <br>\n",
    "Official Data Definitions: https://www.cms.gov/Research-Statistics-Data-and-Systems/Downloadable-Public-Use-Files/BSAPUFS/Downloads/2010_Carrier_Data_Dictionary.pdf<br>\n",
    "CPT Codes: https://www.cms.gov/license/ama?file=/Medicare/Fraud-and-Abuse/PhysicianSelfReferral/Downloads/2012Addendum.zip <br>"
   ]
  },
  {
   "cell_type": "code",
   "execution_count": 33,
   "metadata": {},
   "outputs": [
    {
     "data": {
      "text/html": [
       "<div>\n",
       "<style scoped>\n",
       "    .dataframe tbody tr th:only-of-type {\n",
       "        vertical-align: middle;\n",
       "    }\n",
       "\n",
       "    .dataframe tbody tr th {\n",
       "        vertical-align: top;\n",
       "    }\n",
       "\n",
       "    .dataframe thead th {\n",
       "        text-align: right;\n",
       "    }\n",
       "</style>\n",
       "<table border=\"1\" class=\"dataframe\">\n",
       "  <thead>\n",
       "    <tr style=\"text-align: right;\">\n",
       "      <th></th>\n",
       "      <th>BENE_SEX_IDENT_CD</th>\n",
       "      <th>BENE_AGE_CAT_CD</th>\n",
       "      <th>CAR_LINE_ICD9_DGNS_CD</th>\n",
       "      <th>CAR_LINE_HCPCS_CD</th>\n",
       "      <th>CAR_LINE_BETOS_CD</th>\n",
       "      <th>CAR_LINE_SRVC_CNT</th>\n",
       "      <th>CAR_LINE_PRVDR_TYPE_CD</th>\n",
       "      <th>CAR_LINE_CMS_TYPE_SRVC_CD</th>\n",
       "      <th>CAR_LINE_PLACE_OF_SRVC_CD</th>\n",
       "      <th>CAR_HCPS_PMT_AMT</th>\n",
       "      <th>CAR_LINE_CNT</th>\n",
       "    </tr>\n",
       "  </thead>\n",
       "  <tbody>\n",
       "    <tr>\n",
       "      <th>0</th>\n",
       "      <td>1</td>\n",
       "      <td>1</td>\n",
       "      <td>NaN</td>\n",
       "      <td>99213</td>\n",
       "      <td>M1B</td>\n",
       "      <td>1</td>\n",
       "      <td>1</td>\n",
       "      <td>1</td>\n",
       "      <td>11</td>\n",
       "      <td>55</td>\n",
       "      <td>2</td>\n",
       "    </tr>\n",
       "    <tr>\n",
       "      <th>1</th>\n",
       "      <td>1</td>\n",
       "      <td>1</td>\n",
       "      <td>NaN</td>\n",
       "      <td>A0425</td>\n",
       "      <td>O1A</td>\n",
       "      <td>1</td>\n",
       "      <td>3</td>\n",
       "      <td>D</td>\n",
       "      <td>41</td>\n",
       "      <td>5</td>\n",
       "      <td>46</td>\n",
       "    </tr>\n",
       "    <tr>\n",
       "      <th>2</th>\n",
       "      <td>1</td>\n",
       "      <td>1</td>\n",
       "      <td>NaN</td>\n",
       "      <td>A0425</td>\n",
       "      <td>O1A</td>\n",
       "      <td>1</td>\n",
       "      <td>3</td>\n",
       "      <td>D</td>\n",
       "      <td>41</td>\n",
       "      <td>10</td>\n",
       "      <td>47</td>\n",
       "    </tr>\n",
       "    <tr>\n",
       "      <th>3</th>\n",
       "      <td>1</td>\n",
       "      <td>1</td>\n",
       "      <td>NaN</td>\n",
       "      <td>A0425</td>\n",
       "      <td>O1A</td>\n",
       "      <td>2</td>\n",
       "      <td>3</td>\n",
       "      <td>D</td>\n",
       "      <td>41</td>\n",
       "      <td>10</td>\n",
       "      <td>363</td>\n",
       "    </tr>\n",
       "    <tr>\n",
       "      <th>4</th>\n",
       "      <td>1</td>\n",
       "      <td>1</td>\n",
       "      <td>NaN</td>\n",
       "      <td>A0425</td>\n",
       "      <td>O1A</td>\n",
       "      <td>2</td>\n",
       "      <td>3</td>\n",
       "      <td>D</td>\n",
       "      <td>41</td>\n",
       "      <td>15</td>\n",
       "      <td>12</td>\n",
       "    </tr>\n",
       "  </tbody>\n",
       "</table>\n",
       "</div>"
      ],
      "text/plain": [
       "   BENE_SEX_IDENT_CD  BENE_AGE_CAT_CD CAR_LINE_ICD9_DGNS_CD CAR_LINE_HCPCS_CD  \\\n",
       "0                  1                1                   NaN             99213   \n",
       "1                  1                1                   NaN             A0425   \n",
       "2                  1                1                   NaN             A0425   \n",
       "3                  1                1                   NaN             A0425   \n",
       "4                  1                1                   NaN             A0425   \n",
       "\n",
       "  CAR_LINE_BETOS_CD  CAR_LINE_SRVC_CNT  CAR_LINE_PRVDR_TYPE_CD  \\\n",
       "0               M1B                  1                       1   \n",
       "1               O1A                  1                       3   \n",
       "2               O1A                  1                       3   \n",
       "3               O1A                  2                       3   \n",
       "4               O1A                  2                       3   \n",
       "\n",
       "  CAR_LINE_CMS_TYPE_SRVC_CD  CAR_LINE_PLACE_OF_SRVC_CD  CAR_HCPS_PMT_AMT  \\\n",
       "0                         1                         11                55   \n",
       "1                         D                         41                 5   \n",
       "2                         D                         41                10   \n",
       "3                         D                         41                10   \n",
       "4                         D                         41                15   \n",
       "\n",
       "   CAR_LINE_CNT  \n",
       "0             2  \n",
       "1            46  \n",
       "2            47  \n",
       "3           363  \n",
       "4            12  "
      ]
     },
     "execution_count": 33,
     "metadata": {},
     "output_type": "execute_result"
    }
   ],
   "source": [
    "df = pd.read_csv('2010_BSA_Carrier_PUF.csv')\n",
    "df.head()"
   ]
  },
  {
   "cell_type": "code",
   "execution_count": 34,
   "metadata": {},
   "outputs": [
    {
     "data": {
      "text/plain": [
       "<matplotlib.axes._subplots.AxesSubplot at 0x1dd06835148>"
      ]
     },
     "execution_count": 34,
     "metadata": {},
     "output_type": "execute_result"
    },
    {
     "data": {
      "image/png": "[encoded data removed]",
      "text/plain": [
       "<Figure size 576x576 with 1 Axes>"
      ]
     },
     "metadata": {},
     "output_type": "display_data"
    }
   ],
   "source": [
    "# Sort line items by the most common diagnosis\n",
    "df['CAR_LINE_ICD9_DGNS_CD'].value_counts(ascending=False)\n",
    "\n",
    "# Filter all line items for the top 5 diagnoses\n",
    "top_5_filter = df['CAR_LINE_ICD9_DGNS_CD'].isin([724, 719, 715, 401, 427])\n",
    "top_5_df = df[top_5_filter]\n",
    "top_5_counts = top_5_df['CAR_LINE_ICD9_DGNS_CD'].value_counts().to_frame().reset_index()\n",
    "top_5_counts.columns = ['DIAGNOSIS', 'COUNT']\n",
    "top_5_counts = top_5_counts.set_index([pd.Index(['Other and unspecified disorders of back',\n",
    "                                  'Other and unspecified disorders of joint',\n",
    "                                  'Osteoarthrosis and allied disorders',\n",
    "                                  'Essential hypertension',\n",
    "                                  'Cardiac dysrhythmias'])])\n",
    "\n",
    "#Display the top 5 most common diagnosis in a pie chart\n",
    "top_5_counts.plot.pie(y='COUNT', title='Top 5 Diagnoses', figsize=(8,8), legend=False, fontsize=12)"
   ]
  },
  {
   "cell_type": "code",
   "execution_count": null,
   "metadata": {},
   "outputs": [],
   "source": []
  },
  {
   "cell_type": "code",
   "execution_count": 35,
   "metadata": {},
   "outputs": [],
   "source": [
    "# Map age category codes to their description\n",
    "age_category_map = pd.DataFrame(data={'AGE_CAT': [1,2,3,4,5,6], 'AGE_CAT_DESC': ['Under 65', '65-69', '70-74', '75-79', '80-84', '85 and older']})\n",
    "age_category_map.set_index('AGE_CAT', inplace=True)"
   ]
  },
  {
   "cell_type": "code",
   "execution_count": 36,
   "metadata": {},
   "outputs": [
    {
     "data": {
      "text/plain": [
       "<matplotlib.axes._subplots.AxesSubplot at 0x1dd02fcb288>"
      ]
     },
     "execution_count": 36,
     "metadata": {},
     "output_type": "execute_result"
    },
    {
     "data": {
      "image/png": "[encoded data removed]",
      "text/plain": [
       "<Figure size 576x576 with 1 Axes>"
      ]
     },
     "metadata": {
      "needs_background": "light"
     },
     "output_type": "display_data"
    }
   ],
   "source": [
    "# Filter by diagnosis of back disorder and display a bar chart with age breakdown\n",
    "back_disorders_filter = df['CAR_LINE_ICD9_DGNS_CD'].isin([724])\n",
    "back_disorders_df = df[back_disorders_filter]\n",
    "age_back_disorder_plot = pd.DataFrame(back_disorders_df['BENE_AGE_CAT_CD'].value_counts())\n",
    "age_back_disorder_plot.index.name = 'BENE_AGE_CAT_CD'\n",
    "age_back_disorder_plot.columns = ['FREQUENCY']\n",
    "age_dist_back_disorders = age_back_disorder_plot.join(age_category_map).sort_values('BENE_AGE_CAT_CD')\n",
    "age_dist_back_disorders.plot(kind='bar', x='AGE_CAT_DESC', title='Back Disorder Visits by Age Category', figsize=(8,8), fontsize=12)"
   ]
  },
  {
   "cell_type": "markdown",
   "metadata": {},
   "source": [
    "**Analysis** <br>\n",
    "Medicare patients \"Under 65\" received more medical care for back disorders than any of the other age category. Patients in the \"Under 65\" category were also twice as likely to receive care for back disorders than patients in the next age category up, \"65-69\". This finding is somewhat surprising as we'd back disorders to worsen as patients age. Perhaps as patients retire there are less physical demands on them and therefore they are less likely to seek medical care as the severity of their issues decreases."
   ]
  },
  {
   "cell_type": "markdown",
   "metadata": {},
   "source": [
    "### Examine Central Tendency of Medicare Payments for Carrier Line Items"
   ]
  },
  {
   "cell_type": "code",
   "execution_count": 37,
   "metadata": {
    "scrolled": true
   },
   "outputs": [
    {
     "name": "stdout",
     "output_type": "stream",
     "text": [
      "The 25th percentile of Medicare payments started at: 15.0\n",
      "The 75th percentile of Medicare payments started at: 95.0\n",
      "The interquartile range was: 80.0\n"
     ]
    }
   ],
   "source": [
    "# Use the interquartile range to identify the the middle 50% of the data\n",
    "Q1 = np.percentile(back_disorders_df['CAR_HCPS_PMT_AMT'], 25)\n",
    "Q3 = np.percentile(back_disorders_df['CAR_HCPS_PMT_AMT'], 75)\n",
    "Q4 = np.percentile(back_disorders_df['CAR_HCPS_PMT_AMT'], 100)\n",
    "IQR = Q3 - Q1\n",
    "print(\"The 25th percentile of Medicare payments started at: \" + str(Q1))\n",
    "print(\"The 75th percentile of Medicare payments started at: \" + str(Q3))\n",
    "print(\"The interquartile range was: \" + str(IQR))"
   ]
  },
  {
   "cell_type": "markdown",
   "metadata": {},
   "source": [
    "### Visualize the central tendency of the data using a kernel density plot\n",
    "A kernel density estimate (KDE) plot is a method for visualizing the distribution of observations in a dataset, analogous to a histogram. KDE represents the data using a continuous probability density curve in one or more dimensions."
   ]
  },
  {
   "cell_type": "code",
   "execution_count": 38,
   "metadata": {},
   "outputs": [
    {
     "data": {
      "text/plain": [
       "Text(0.75, 1, 'Distribution of Medicare Payment Amounts for Back Disorder Line Items')"
      ]
     },
     "execution_count": 38,
     "metadata": {},
     "output_type": "execute_result"
    },
    {
     "data": {
      "image/png": "[encoded data removed]",
      "text/plain": [
       "<Figure size 360x360 with 1 Axes>"
      ]
     },
     "metadata": {
      "needs_background": "light"
     },
     "output_type": "display_data"
    }
   ],
   "source": [
    "# Visualize how data is distributed in the middle 50% using kernel density to smooth the data\n",
    "middle_distribution = back_disorders_df.loc[(back_disorders_df['CAR_HCPS_PMT_AMT'] > Q1) & (back_disorders_df['CAR_HCPS_PMT_AMT'] < Q3)]\n",
    "ax = sns.displot(middle_distribution, x=\"CAR_HCPS_PMT_AMT\", kind=\"kde\")\n",
    "ax.fig.suptitle(\"Distribution of Medicare Payment Amounts for Back Disorder Line Items\", x=.75, y=1,\n",
    "                  fontsize=12, fontdict={\"weight\": \"bold\"})"
   ]
  },
  {
   "cell_type": "markdown",
   "metadata": {},
   "source": [
    "**Analysis** <br>\n",
    "The plot above is positively skewed indicating that Medicare usually pays closer to \\\\$14 than \\\\$95 for procedures related to back disorders."
   ]
  },
  {
   "cell_type": "code",
   "execution_count": 39,
   "metadata": {},
   "outputs": [
    {
     "data": {
      "text/plain": [
       "63047    87\n",
       "63030    74\n",
       "00670    66\n",
       "22612    58\n",
       "63042    54\n",
       "Name: CAR_LINE_HCPCS_CD, dtype: int64"
      ]
     },
     "execution_count": 39,
     "metadata": {},
     "output_type": "execute_result"
    }
   ],
   "source": [
    "# Calculate the z-score of Medicare payment amounts for procedure codes related to back disorders\n",
    "z = np.abs(stats.zscore(back_disorders_df['CAR_HCPS_PMT_AMT']))\n",
    "back_disorders_df['zscore'] = z\n",
    "back_disorder_outlier_df = back_disorders_df.loc[(back_disorders_df['zscore'] > 2)]\n",
    "back_disorder_outlier_df['CAR_LINE_HCPCS_CD'].value_counts().head(5)"
   ]
  },
  {
   "cell_type": "markdown",
   "metadata": {},
   "source": [
    "**Analysis** <br>\n",
    "The top 5 most common procedures that were at least 2 standard deviations from the middle were: <br>\n",
    "* Under Posterior Extradural Laminotomy or Laminectomy for Stenosis\n",
    "* Under Posterior Extradural Laminotomy or Laminectomy for Herniated Disc\n",
    "* Under Anesthesia for Procedures on the Spine and Spinal Cord\n",
    "* Under Posterior, Posterolateral or Lateral Transverse Process Technique Arthrodesis...\n",
    "* Under Posterior Extradural Laminotomy or Laminectomy for Exploration/ Decompression...\n"
   ]
  },
  {
   "cell_type": "code",
   "execution_count": 40,
   "metadata": {},
   "outputs": [],
   "source": [
    "# Map the top 5 procedures to their descriptions\n",
    "back_disorder_outlier_df = back_disorders_df.loc[(back_disorders_df['zscore'] > 2)]\n",
    "back_disorder_outlier_df['CAR_LINE_HCPCS_CD'].value_counts()\n",
    "procedure_map = pd.DataFrame(data={'CAR_LINE_HCPCS_CD':['63047', '63030', '00670', '22612', '63042'], \n",
    "                 'Procedure Description': ['Under Posterior Extradural Laminotomy or Laminectomy for Stenosis',\n",
    "                 'Under Posterior Extradural Laminotomy or Laminectomy for Herniated Disc',\n",
    "                 'Under Anesthesia for Procedures on the Spine and Spinal Cord',\n",
    "                 'Under Posterior, Posterolateral or Lateral Transverse Process Technique Arthrodesis...',\n",
    "                 'Under Posterior Extradural Laminotomy or Laminectomy for Exploration/ Decompression...']}\n",
    "                )\n",
    "procedure_map.set_index('CAR_LINE_HCPCS_CD', inplace=True)\n",
    "back_disorder_outlier_df = back_disorder_outlier_df.join(procedure_map, on='CAR_LINE_HCPCS_CD')"
   ]
  },
  {
   "cell_type": "code",
   "execution_count": 41,
   "metadata": {},
   "outputs": [
    {
     "data": {
      "text/html": [
       "<div>\n",
       "<style scoped>\n",
       "    .dataframe tbody tr th:only-of-type {\n",
       "        vertical-align: middle;\n",
       "    }\n",
       "\n",
       "    .dataframe tbody tr th {\n",
       "        vertical-align: top;\n",
       "    }\n",
       "\n",
       "    .dataframe thead th {\n",
       "        text-align: right;\n",
       "    }\n",
       "</style>\n",
       "<table border=\"1\" class=\"dataframe\">\n",
       "  <thead>\n",
       "    <tr style=\"text-align: right;\">\n",
       "      <th></th>\n",
       "      <th>Mean Medicare Spending Amount</th>\n",
       "    </tr>\n",
       "    <tr>\n",
       "      <th>Procedure Description</th>\n",
       "      <th></th>\n",
       "    </tr>\n",
       "  </thead>\n",
       "  <tbody>\n",
       "    <tr>\n",
       "      <th>Under Anesthesia for Procedures on the Spine and Spinal Cord</th>\n",
       "      <td>719.696970</td>\n",
       "    </tr>\n",
       "    <tr>\n",
       "      <th>Under Posterior Extradural Laminotomy or Laminectomy for Exploration/ Decompression...</th>\n",
       "      <td>1050.000000</td>\n",
       "    </tr>\n",
       "    <tr>\n",
       "      <th>Under Posterior Extradural Laminotomy or Laminectomy for Herniated Disc</th>\n",
       "      <td>800.000000</td>\n",
       "    </tr>\n",
       "    <tr>\n",
       "      <th>Under Posterior Extradural Laminotomy or Laminectomy for Stenosis</th>\n",
       "      <td>817.241379</td>\n",
       "    </tr>\n",
       "    <tr>\n",
       "      <th>Under Posterior, Posterolateral or Lateral Transverse Process Technique Arthrodesis...</th>\n",
       "      <td>951.724138</td>\n",
       "    </tr>\n",
       "  </tbody>\n",
       "</table>\n",
       "</div>"
      ],
      "text/plain": [
       "                                                    Mean Medicare Spending Amount\n",
       "Procedure Description                                                            \n",
       "Under Anesthesia for Procedures on the Spine an...                     719.696970\n",
       "Under Posterior Extradural Laminotomy or Lamine...                    1050.000000\n",
       "Under Posterior Extradural Laminotomy or Lamine...                     800.000000\n",
       "Under Posterior Extradural Laminotomy or Lamine...                     817.241379\n",
       "Under Posterior, Posterolateral or Lateral Tran...                     951.724138"
      ]
     },
     "execution_count": 41,
     "metadata": {},
     "output_type": "execute_result"
    }
   ],
   "source": [
    "back_disorder_outlier_df.dropna(subset = ['Procedure Description'], inplace=True)\n",
    "back_disorder_outlier_df[['Procedure Description', 'CAR_HCPS_PMT_AMT']].groupby(['Procedure Description']).mean().rename(columns={'Procedure Description': 'Procedure Description', 'CAR_HCPS_PMT_AMT': 'Mean Medicare Spending Amount'})"
   ]
  },
  {
   "cell_type": "markdown",
   "metadata": {},
   "source": [
    "Analysis: "
   ]
  },
  {
   "cell_type": "code",
   "execution_count": 42,
   "metadata": {},
   "outputs": [
    {
     "data": {
      "text/html": [
       "<div>\n",
       "<style scoped>\n",
       "    .dataframe tbody tr th:only-of-type {\n",
       "        vertical-align: middle;\n",
       "    }\n",
       "\n",
       "    .dataframe tbody tr th {\n",
       "        vertical-align: top;\n",
       "    }\n",
       "\n",
       "    .dataframe thead th {\n",
       "        text-align: right;\n",
       "    }\n",
       "</style>\n",
       "<table border=\"1\" class=\"dataframe\">\n",
       "  <thead>\n",
       "    <tr style=\"text-align: right;\">\n",
       "      <th></th>\n",
       "      <th>Median Medicare Spending Amount</th>\n",
       "    </tr>\n",
       "    <tr>\n",
       "      <th>Procedure Description</th>\n",
       "      <th></th>\n",
       "    </tr>\n",
       "  </thead>\n",
       "  <tbody>\n",
       "    <tr>\n",
       "      <th>Under Anesthesia for Procedures on the Spine and Spinal Cord</th>\n",
       "      <td>700</td>\n",
       "    </tr>\n",
       "    <tr>\n",
       "      <th>Under Posterior Extradural Laminotomy or Laminectomy for Exploration/ Decompression...</th>\n",
       "      <td>900</td>\n",
       "    </tr>\n",
       "    <tr>\n",
       "      <th>Under Posterior Extradural Laminotomy or Laminectomy for Herniated Disc</th>\n",
       "      <td>800</td>\n",
       "    </tr>\n",
       "    <tr>\n",
       "      <th>Under Posterior Extradural Laminotomy or Laminectomy for Stenosis</th>\n",
       "      <td>800</td>\n",
       "    </tr>\n",
       "    <tr>\n",
       "      <th>Under Posterior, Posterolateral or Lateral Transverse Process Technique Arthrodesis...</th>\n",
       "      <td>950</td>\n",
       "    </tr>\n",
       "  </tbody>\n",
       "</table>\n",
       "</div>"
      ],
      "text/plain": [
       "                                                    Median Medicare Spending Amount\n",
       "Procedure Description                                                              \n",
       "Under Anesthesia for Procedures on the Spine an...                              700\n",
       "Under Posterior Extradural Laminotomy or Lamine...                              900\n",
       "Under Posterior Extradural Laminotomy or Lamine...                              800\n",
       "Under Posterior Extradural Laminotomy or Lamine...                              800\n",
       "Under Posterior, Posterolateral or Lateral Tran...                              950"
      ]
     },
     "execution_count": 42,
     "metadata": {},
     "output_type": "execute_result"
    }
   ],
   "source": [
    "back_disorder_outlier_df[['Procedure Description', 'CAR_HCPS_PMT_AMT']].groupby(['Procedure Description']).median().rename(columns={'Procedure Description': 'SERVICE', 'CAR_HCPS_PMT_AMT': 'Median Medicare Spending Amount'})"
   ]
  },
  {
   "cell_type": "markdown",
   "metadata": {},
   "source": [
    "**Analysis**<br>\n",
    "* A person receiving the procedure \"Under Posterior, Posterolateral or Lateral Transverse Process Technique Arthrodesis...\t\"required the highest payment for their procedure at a median value of \\\\$950. <br>\n",
    "* Anesthesia was less expensive than the other procedures but was probably a component of the patient's overall bill."
   ]
  },
  {
   "cell_type": "code",
   "execution_count": null,
   "metadata": {},
   "outputs": [],
   "source": []
  },
  {
   "cell_type": "code",
   "execution_count": null,
   "metadata": {},
   "outputs": [],
   "source": []
  }
 ],
 "metadata": {
  "kernelspec": {
   "display_name": "Python 3",
   "language": "python",
   "name": "python3"
  },
  "language_info": {
   "codemirror_mode": {
    "name": "ipython",
    "version": 3
   },
   "file_extension": ".py",
   "mimetype": "text/x-python",
   "name": "python",
   "nbconvert_exporter": "python",
   "pygments_lexer": "ipython3",
   "version": "3.7.5"
  }
 },
 "nbformat": 4,
 "nbformat_minor": 4
}
